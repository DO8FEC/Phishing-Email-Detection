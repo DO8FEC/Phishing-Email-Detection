{
 "cells": [
  {
   "cell_type": "markdown",
   "id": "8a3cf73753c5de5b",
   "metadata": {},
   "source": [
    "### Import libraries"
   ]
  },
  {
   "cell_type": "code",
   "id": "2f8a59334b0f21c8",
   "metadata": {
    "ExecuteTime": {
     "end_time": "2024-09-20T08:16:31.319023Z",
     "start_time": "2024-09-20T08:16:29.017144Z"
    }
   },
   "source": [
    "from IPython.display import display\n",
    "import pandas as pd\n",
    "import numpy as np\n",
    "import matplotlib.pyplot as plt\n",
    "from sklearn.preprocessing import LabelEncoder\n",
    "import re\n",
    "from sklearn.feature_extraction.text import TfidfVectorizer\n",
    "from sklearn.model_selection import train_test_split"
   ],
   "outputs": [],
   "execution_count": 1
  },
  {
   "cell_type": "markdown",
   "id": "cfba00250d71b9a",
   "metadata": {},
   "source": [
    "### Load Data"
   ]
  },
  {
   "cell_type": "code",
   "id": "initial_id",
   "metadata": {
    "ExecuteTime": {
     "end_time": "2024-09-20T08:16:31.820791Z",
     "start_time": "2024-09-20T08:16:31.367820Z"
    }
   },
   "source": [
    "df = pd.read_csv('data/Phishing_Email.csv', index_col=0)\n",
    "display(df.head())"
   ],
   "outputs": [
    {
     "data": {
      "text/plain": [
       "                                          Email Text      Email Type\n",
       "0  re : 6 . 1100 , disc : uniformitarianism , re ...      Safe Email\n",
       "1  the other side of * galicismos * * galicismo *...      Safe Email\n",
       "2  re : equistar deal tickets are you still avail...      Safe Email\n",
       "3  \\nHello I am your hot lil horny toy.\\n    I am...  Phishing Email\n",
       "4  software at incredibly low prices ( 86 % lower...  Phishing Email"
      ],
      "text/html": [
       "<div>\n",
       "<style scoped>\n",
       "    .dataframe tbody tr th:only-of-type {\n",
       "        vertical-align: middle;\n",
       "    }\n",
       "\n",
       "    .dataframe tbody tr th {\n",
       "        vertical-align: top;\n",
       "    }\n",
       "\n",
       "    .dataframe thead th {\n",
       "        text-align: right;\n",
       "    }\n",
       "</style>\n",
       "<table border=\"1\" class=\"dataframe\">\n",
       "  <thead>\n",
       "    <tr style=\"text-align: right;\">\n",
       "      <th></th>\n",
       "      <th>Email Text</th>\n",
       "      <th>Email Type</th>\n",
       "    </tr>\n",
       "  </thead>\n",
       "  <tbody>\n",
       "    <tr>\n",
       "      <th>0</th>\n",
       "      <td>re : 6 . 1100 , disc : uniformitarianism , re ...</td>\n",
       "      <td>Safe Email</td>\n",
       "    </tr>\n",
       "    <tr>\n",
       "      <th>1</th>\n",
       "      <td>the other side of * galicismos * * galicismo *...</td>\n",
       "      <td>Safe Email</td>\n",
       "    </tr>\n",
       "    <tr>\n",
       "      <th>2</th>\n",
       "      <td>re : equistar deal tickets are you still avail...</td>\n",
       "      <td>Safe Email</td>\n",
       "    </tr>\n",
       "    <tr>\n",
       "      <th>3</th>\n",
       "      <td>\\nHello I am your hot lil horny toy.\\n    I am...</td>\n",
       "      <td>Phishing Email</td>\n",
       "    </tr>\n",
       "    <tr>\n",
       "      <th>4</th>\n",
       "      <td>software at incredibly low prices ( 86 % lower...</td>\n",
       "      <td>Phishing Email</td>\n",
       "    </tr>\n",
       "  </tbody>\n",
       "</table>\n",
       "</div>"
      ]
     },
     "metadata": {},
     "output_type": "display_data"
    }
   ],
   "execution_count": 2
  },
  {
   "cell_type": "markdown",
   "id": "30e4ffe2015b486b",
   "metadata": {},
   "source": [
    "### Text Processing"
   ]
  },
  {
   "cell_type": "code",
   "id": "279539169e003461",
   "metadata": {
    "ExecuteTime": {
     "end_time": "2024-09-20T08:16:31.975697Z",
     "start_time": "2024-09-20T08:16:31.969317Z"
    }
   },
   "source": [
    "# Count the number of null\n",
    "print(df.isnull().sum())"
   ],
   "outputs": [
    {
     "name": "stdout",
     "output_type": "stream",
     "text": [
      "Email Text    16\n",
      "Email Type     0\n",
      "dtype: int64\n"
     ]
    }
   ],
   "execution_count": 3
  },
  {
   "cell_type": "code",
   "id": "926c4a7ab89dc62d",
   "metadata": {
    "ExecuteTime": {
     "end_time": "2024-09-20T08:16:32.002859Z",
     "start_time": "2024-09-20T08:16:31.998165Z"
    }
   },
   "source": [
    "# Remove rows containing NaN values\n",
    "df = df.dropna(subset=[\"Email Text\"])"
   ],
   "outputs": [],
   "execution_count": 4
  },
  {
   "cell_type": "code",
   "id": "bc7dd15ee979b211",
   "metadata": {
    "ExecuteTime": {
     "end_time": "2024-09-20T08:16:32.447139Z",
     "start_time": "2024-09-20T08:16:32.117147Z"
    }
   },
   "source": [
    "# Count the number of duplicate\n",
    "print(df.duplicated().sum())\n",
    "df = df.drop_duplicates()"
   ],
   "outputs": [
    {
     "name": "stdout",
     "output_type": "stream",
     "text": [
      "1096\n"
     ]
    }
   ],
   "execution_count": 5
  },
  {
   "cell_type": "code",
   "id": "381f8c6c89eb5570",
   "metadata": {
    "ExecuteTime": {
     "end_time": "2024-09-20T08:16:32.468156Z",
     "start_time": "2024-09-20T08:16:32.466073Z"
    }
   },
   "source": [
    "# there are 17539 rows, 2 columns\n",
    "print(\"Dimension of the row data:\",df.shape)"
   ],
   "outputs": [
    {
     "name": "stdout",
     "output_type": "stream",
     "text": [
      "Dimension of the row data: (17538, 2)\n"
     ]
    }
   ],
   "execution_count": 6
  },
  {
   "cell_type": "markdown",
   "id": "bc34f34e5968ba92",
   "metadata": {},
   "source": [
    "**Plotting the pie chart**"
   ]
  },
  {
   "cell_type": "code",
   "id": "c1d7a7a178779744",
   "metadata": {
    "ExecuteTime": {
     "end_time": "2024-09-20T08:16:32.602870Z",
     "start_time": "2024-09-20T08:16:32.494238Z"
    }
   },
   "source": [
    "email_counts = df['Email Type'].value_counts()\n",
    "plt.figure(figsize=(8, 8))\n",
    "plt.pie(email_counts, labels=email_counts.index, autopct='%1.1f%%', startangle=90, colors=['#66b3ff','#ff6666'])\n",
    "\n",
    "plt.title('Ratio of Phishing Emails to Safe Emails')\n",
    "plt.show()"
   ],
   "outputs": [
    {
     "data": {
      "text/plain": [
       "<Figure size 800x800 with 1 Axes>"
      ],
      "image/png": "[encoded data removed]"
     },
     "metadata": {},
     "output_type": "display_data"
    }
   ],
   "execution_count": 7
  },
  {
   "cell_type": "markdown",
   "id": "1bb4457c49f5b55a",
   "metadata": {},
   "source": [
    "**Label Encoding**  \n",
    "Safe email -> 1  \n",
    "Phishing email -> 0"
   ]
  },
  {
   "cell_type": "code",
   "id": "4718ff6d28ccae9f",
   "metadata": {
    "ExecuteTime": {
     "end_time": "2024-09-20T08:16:32.621435Z",
     "start_time": "2024-09-20T08:16:32.615780Z"
    }
   },
   "source": [
    "le = LabelEncoder()\n",
    "df[\"Email Type\"] = le.fit_transform(df[\"Email Type\"])\n",
    "display(df)"
   ],
   "outputs": [
    {
     "data": {
      "text/plain": [
       "                                              Email Text  Email Type\n",
       "0      re : 6 . 1100 , disc : uniformitarianism , re ...           1\n",
       "1      the other side of * galicismos * * galicismo *...           1\n",
       "2      re : equistar deal tickets are you still avail...           1\n",
       "3      \\nHello I am your hot lil horny toy.\\n    I am...           0\n",
       "4      software at incredibly low prices ( 86 % lower...           0\n",
       "...                                                  ...         ...\n",
       "18645  \\nRick Moen  a Ã©crit:> > I'm confused. I thou...           1\n",
       "18646  date a lonely housewife always wanted to date ...           0\n",
       "18647  request submitted : access request for anita ....           1\n",
       "18648  re : important - prc mtg hi dorn & john , as y...           1\n",
       "18649  press clippings - letter on californian utilit...           1\n",
       "\n",
       "[17538 rows x 2 columns]"
      ],
      "text/html": [
       "<div>\n",
       "<style scoped>\n",
       "    .dataframe tbody tr th:only-of-type {\n",
       "        vertical-align: middle;\n",
       "    }\n",
       "\n",
       "    .dataframe tbody tr th {\n",
       "        vertical-align: top;\n",
       "    }\n",
       "\n",
       "    .dataframe thead th {\n",
       "        text-align: right;\n",
       "    }\n",
       "</style>\n",
       "<table border=\"1\" class=\"dataframe\">\n",
       "  <thead>\n",
       "    <tr style=\"text-align: right;\">\n",
       "      <th></th>\n",
       "      <th>Email Text</th>\n",
       "      <th>Email Type</th>\n",
       "    </tr>\n",
       "  </thead>\n",
       "  <tbody>\n",
       "    <tr>\n",
       "      <th>0</th>\n",
       "      <td>re : 6 . 1100 , disc : uniformitarianism , re ...</td>\n",
       "      <td>1</td>\n",
       "    </tr>\n",
       "    <tr>\n",
       "      <th>1</th>\n",
       "      <td>the other side of * galicismos * * galicismo *...</td>\n",
       "      <td>1</td>\n",
       "    </tr>\n",
       "    <tr>\n",
       "      <th>2</th>\n",
       "      <td>re : equistar deal tickets are you still avail...</td>\n",
       "      <td>1</td>\n",
       "    </tr>\n",
       "    <tr>\n",
       "      <th>3</th>\n",
       "      <td>\\nHello I am your hot lil horny toy.\\n    I am...</td>\n",
       "      <td>0</td>\n",
       "    </tr>\n",
       "    <tr>\n",
       "      <th>4</th>\n",
       "      <td>software at incredibly low prices ( 86 % lower...</td>\n",
       "      <td>0</td>\n",
       "    </tr>\n",
       "    <tr>\n",
       "      <th>...</th>\n",
       "      <td>...</td>\n",
       "      <td>...</td>\n",
       "    </tr>\n",
       "    <tr>\n",
       "      <th>18645</th>\n",
       "      <td>\\nRick Moen  a Ã©crit:&gt; &gt; I'm confused. I thou...</td>\n",
       "      <td>1</td>\n",
       "    </tr>\n",
       "    <tr>\n",
       "      <th>18646</th>\n",
       "      <td>date a lonely housewife always wanted to date ...</td>\n",
       "      <td>0</td>\n",
       "    </tr>\n",
       "    <tr>\n",
       "      <th>18647</th>\n",
       "      <td>request submitted : access request for anita ....</td>\n",
       "      <td>1</td>\n",
       "    </tr>\n",
       "    <tr>\n",
       "      <th>18648</th>\n",
       "      <td>re : important - prc mtg hi dorn &amp; john , as y...</td>\n",
       "      <td>1</td>\n",
       "    </tr>\n",
       "    <tr>\n",
       "      <th>18649</th>\n",
       "      <td>press clippings - letter on californian utilit...</td>\n",
       "      <td>1</td>\n",
       "    </tr>\n",
       "  </tbody>\n",
       "</table>\n",
       "<p>17538 rows × 2 columns</p>\n",
       "</div>"
      ]
     },
     "metadata": {},
     "output_type": "display_data"
    }
   ],
   "execution_count": 8
  },
  {
   "cell_type": "markdown",
   "id": "9bc57fd3a84304b1",
   "metadata": {},
   "source": [
    "**Remove hyperlinks, punctuations, extra space**"
   ]
  },
  {
   "cell_type": "code",
   "id": "10f7ffb64402616f",
   "metadata": {
    "ExecuteTime": {
     "end_time": "2024-09-20T08:16:34.830672Z",
     "start_time": "2024-09-20T08:16:32.649795Z"
    }
   },
   "source": [
    "def clean_text(text):\n",
    "    # Remove hyperlinks\n",
    "    text = re.sub(r'http\\S+|www\\S+|https\\S+', '', text, flags=re.MULTILINE)\n",
    "\n",
    "    # Remove punctuation\n",
    "    text = re.sub(r'[^\\w\\s]', '', text)\n",
    "\n",
    "    # Remove extra spaces\n",
    "    text = re.sub(r'\\s+', ' ', text).strip()\n",
    "\n",
    "    return text\n",
    "\n",
    "df['Email Text'] = df['Email Text'].apply(clean_text)"
   ],
   "outputs": [],
   "execution_count": 9
  },
  {
   "cell_type": "code",
   "id": "466c3ba1d829b161",
   "metadata": {
    "ExecuteTime": {
     "end_time": "2024-09-20T08:16:35.639964Z",
     "start_time": "2024-09-20T08:16:34.844224Z"
    }
   },
   "source": [
    "display(df.head())\n",
    "df.to_csv('data/Cleaned_Phishing_Email.csv', index=False)\n",
    "new_df = pd.read_csv('data/Cleaned_Phishing_Email.csv')\n",
    "print(new_df.isnull().sum())"
   ],
   "outputs": [
    {
     "data": {
      "text/plain": [
       "                                          Email Text  Email Type\n",
       "0  re 6 1100 disc uniformitarianism re 1086 sex l...           1\n",
       "1  the other side of galicismos galicismo is a sp...           1\n",
       "2  re equistar deal tickets are you still availab...           1\n",
       "3  Hello I am your hot lil horny toy I am the one...           0\n",
       "4  software at incredibly low prices 86 lower dra...           0"
      ],
      "text/html": [
       "<div>\n",
       "<style scoped>\n",
       "    .dataframe tbody tr th:only-of-type {\n",
       "        vertical-align: middle;\n",
       "    }\n",
       "\n",
       "    .dataframe tbody tr th {\n",
       "        vertical-align: top;\n",
       "    }\n",
       "\n",
       "    .dataframe thead th {\n",
       "        text-align: right;\n",
       "    }\n",
       "</style>\n",
       "<table border=\"1\" class=\"dataframe\">\n",
       "  <thead>\n",
       "    <tr style=\"text-align: right;\">\n",
       "      <th></th>\n",
       "      <th>Email Text</th>\n",
       "      <th>Email Type</th>\n",
       "    </tr>\n",
       "  </thead>\n",
       "  <tbody>\n",
       "    <tr>\n",
       "      <th>0</th>\n",
       "      <td>re 6 1100 disc uniformitarianism re 1086 sex l...</td>\n",
       "      <td>1</td>\n",
       "    </tr>\n",
       "    <tr>\n",
       "      <th>1</th>\n",
       "      <td>the other side of galicismos galicismo is a sp...</td>\n",
       "      <td>1</td>\n",
       "    </tr>\n",
       "    <tr>\n",
       "      <th>2</th>\n",
       "      <td>re equistar deal tickets are you still availab...</td>\n",
       "      <td>1</td>\n",
       "    </tr>\n",
       "    <tr>\n",
       "      <th>3</th>\n",
       "      <td>Hello I am your hot lil horny toy I am the one...</td>\n",
       "      <td>0</td>\n",
       "    </tr>\n",
       "    <tr>\n",
       "      <th>4</th>\n",
       "      <td>software at incredibly low prices 86 lower dra...</td>\n",
       "      <td>0</td>\n",
       "    </tr>\n",
       "  </tbody>\n",
       "</table>\n",
       "</div>"
      ]
     },
     "metadata": {},
     "output_type": "display_data"
    },
    {
     "name": "stdout",
     "output_type": "stream",
     "text": [
      "Email Text    2\n",
      "Email Type    0\n",
      "dtype: int64\n"
     ]
    }
   ],
   "execution_count": 10
  },
  {
   "cell_type": "markdown",
   "id": "fa0085a556617280",
   "metadata": {},
   "source": [
    "The TfidfVectorizer converts the text data (the email content)\n",
    "into numbers that a machine learning model can understand.\n",
    "TF-IDF stands for Term Frequency-Inverse Document Frequency.\n",
    "It gives more importance to words that are unique and less importance to common words."
   ]
  },
  {
   "cell_type": "code",
   "id": "3f1f210e05a3c634",
   "metadata": {
    "ExecuteTime": {
     "end_time": "2024-09-20T08:16:38.268762Z",
     "start_time": "2024-09-20T08:16:35.649509Z"
    }
   },
   "source": [
    "tf = TfidfVectorizer(stop_words=\"english\", max_features=10000)\n",
    "feature_x = tf.fit_transform(df[\"Email Text\"]).toarray()"
   ],
   "outputs": [],
   "execution_count": 11
  },
  {
   "cell_type": "markdown",
   "id": "5caf8d20d284cfeb",
   "metadata": {},
   "source": [
    "Once the vectorizer has learned from the data, it converts the email text into a matrix of TF-IDF features. \n",
    "\n",
    "Here, `feature_x` represents a **2D matrix** where:\n",
    "- **Rows** correspond to individual emails.\n",
    "- **Columns** correspond to unique words or terms found across all the emails in the dataset (the vocabulary).\n",
    "- **Values** represent the **TF-IDF score** for each word in each email. This score reflects how important a word is within a particular email, relative to how common that word is across all emails.\n",
    "\n",
    "After applying the TF-IDF vectorization, `feature_x` might look like this:\n",
    "\n",
    "| Email   | Buy  | now  | Limited | time  | offer | valid |\n",
    "|---------|------|------|---------|-------|-------|-------|\n",
    "| Email 1 | 0.5  | 0.7  | 0.0     | 0.0   | 0.0   | 0.0   |\n",
    "| Email 2 | 0.0  | 0.0  | 0.6     | 0.6   | 0.6   | 0.0   |\n",
    "| Email 3 | 0.0  | 0.5  | 0.0     | 0.0   | 0.5   | 0.5   |"
   ]
  },
  {
   "cell_type": "markdown",
   "id": "7ac1b66435714f83",
   "metadata": {},
   "source": [
    "### Numpy Array Conversion: Label Indexing\n",
    "\n",
    "The Numpy array `y_tf` stores the labels corresponding to each email from the original DataFrame. \n",
    "\n",
    "- The **index** of the array matches the **row number** of the DataFrame.\n",
    "- For example, `y_tf[0]` represents the label of the **first email** in the dataset (the first row of the DataFrame). \n",
    "  - If `y_tf[0] = 1`, the first email is **non-spam**.\n",
    "  - If `y_tf[0] = 0`, the first email is **spam**."
   ]
  },
  {
   "cell_type": "code",
   "id": "95a140ef30e0a04b",
   "metadata": {
    "ExecuteTime": {
     "end_time": "2024-09-20T08:16:38.337797Z",
     "start_time": "2024-09-20T08:16:38.332863Z"
    }
   },
   "source": [
    "y_tf = np.array(df['Email Type'])"
   ],
   "outputs": [],
   "execution_count": 12
  },
  {
   "cell_type": "code",
   "id": "a448ff1c-feb8-4693-bd03-beda3ed93b54",
   "metadata": {
    "ExecuteTime": {
     "end_time": "2024-09-20T08:16:39.169474Z",
     "start_time": "2024-09-20T08:16:38.370433Z"
    }
   },
   "source": [
    "x_train, x_test, y_train, y_test = train_test_split(feature_x, y_tf, train_size=0.8, random_state=0)"
   ],
   "outputs": [],
   "execution_count": 13
  },
  {
   "cell_type": "code",
   "id": "5a8cdc054bf81cc",
   "metadata": {
    "ExecuteTime": {
     "end_time": "2024-09-20T08:16:40.320325Z",
     "start_time": "2024-09-20T08:16:39.199921Z"
    }
   },
   "source": [
    "# Save the TF-IDF features and labels\n",
    "np.save('feature_x.npy', feature_x)\n",
    "np.save('y_tf.npy', y_tf)"
   ],
   "outputs": [],
   "execution_count": 14
  },
  {
   "cell_type": "markdown",
   "id": "774fa310892314c5",
   "metadata": {},
   "source": [
    "### Dividing the Dataset into Train and Test Sets\n",
    "\n",
    "The `train_test_split()` function splits the dataset into training and testing sets.\n",
    "\n",
    "- **`train_size=0.8`**: 80% of the data is used for training the model, while 20% is reserved for testing.\n",
    "- **`random_state=0`**: Ensures reproducibility of the split. The same split will be generated every time the code is run.\n"
   ]
  }
 ],
 "metadata": {
  "kernelspec": {
   "display_name": "Python 3 (ipykernel)",
   "language": "python",
   "name": "python3"
  },
  "language_info": {
   "codemirror_mode": {
    "name": "ipython",
    "version": 3
   },
   "file_extension": ".py",
   "mimetype": "text/x-python",
   "name": "python",
   "nbconvert_exporter": "python",
   "pygments_lexer": "ipython3",
   "version": "3.11.1"
  }
 },
 "nbformat": 4,
 "nbformat_minor": 5
}
